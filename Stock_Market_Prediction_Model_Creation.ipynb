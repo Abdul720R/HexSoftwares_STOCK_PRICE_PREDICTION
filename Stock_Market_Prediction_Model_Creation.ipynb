{
 "cells": [
  {
   "cell_type": "code",
   "execution_count": 1,
   "id": "88d67c13-1dca-451c-85d5-eb234183c342",
   "metadata": {},
   "outputs": [],
   "source": [
    "# Importing the required Python libraries\n",
    "\n",
    "# NumPy is a fundamental package for scientific computing in Python. \n",
    "# It provides support for large, multi-dimensional arrays and mathematical functions to operate on them.\n",
    "import numpy as np  \n",
    "\n",
    "# Pandas is a powerful library for data manipulation and analysis. \n",
    "# It helps in working with datasets, handling tables (DataFrames), and performing operations like filtering, cleaning, etc.\n",
    "import pandas as pd  \n",
    "\n",
    "# Matplotlib is a popular library for data visualization. \n",
    "# The pyplot module provides functions to create charts, graphs, and plots to visualize trends and patterns in data.\n",
    "import matplotlib.pyplot as plt  \n",
    "\n",
    "# yfinance is a library that allows us to download financial market data (like stock prices) directly from Yahoo Finance. \n",
    "# It is widely used for stock market analysis and investment research.\n",
    "import yfinance as yf  \n"
   ]
  },
  {
   "cell_type": "code",
   "execution_count": 4,
   "id": "f3bc102c-1442-4cae-9093-f77f2b7b7e0c",
   "metadata": {},
   "outputs": [
    {
     "name": "stderr",
     "output_type": "stream",
     "text": [
      "C:\\Users\\dell\\AppData\\Local\\Temp\\ipykernel_396\\805325473.py:5: FutureWarning: YF.download() has changed argument auto_adjust default to True\n",
      "  data = yf.download(stock, start, end)\n",
      "[*********************100%***********************]  1 of 1 completed\n"
     ]
    }
   ],
   "source": [
    "# Defining the start and end dates for fetching stock market data\n",
    "# Here we want stock prices between 1st Jan 2012 and 21st Dec 2024\n",
    "start = '2012-01-01'\n",
    "end = '2024-12-21'\n",
    "\n",
    "# Defining the stock ticker symbol we want to analyze\n",
    "# 'GOOG' stands for Alphabet Inc. (Google) listed on NASDAQ\n",
    "stock = 'GOOG'\n",
    "\n",
    "# Using yfinance to download historical stock data\n",
    "# yf.download() fetches data such as Open, High, Low, Close, Adj Close, and Volume\n",
    "# for the given stock within the defined date range\n",
    "data = yf.download(stock, start, end)\n"
   ]
  },
  {
   "cell_type": "code",
   "execution_count": 7,
   "id": "8657c12a-ec44-4ea9-80c9-7ecbec9b0084",
   "metadata": {},
   "outputs": [],
   "source": [
    "# Resetting the index of the DataFrame\n",
    "\n",
    "# By default, when we download stock data using yfinance,\n",
    "# the 'Date' column is set as the index of the DataFrame.\n",
    "# Example:\n",
    "#             Open    High    Low   Close   Adj Close   Volume\n",
    "# Date\n",
    "# 2012-01-03  324.0  325.2  321.5  324.5    324.5      1234567\n",
    "# 2012-01-04  326.1  327.8  322.0  325.9    325.9      1432456\n",
    "\n",
    "# The command below moves 'Date' out of the index \n",
    "# and makes it a normal column in the DataFrame.\n",
    "# This makes it easier to manipulate, filter, and plot the data later.\n",
    "data.reset_index(inplace=True)\n"
   ]
  },
  {
   "cell_type": "code",
   "execution_count": 8,
   "id": "e8fadd81-946b-47fc-b014-8ecf059302ce",
   "metadata": {},
   "outputs": [
    {
     "data": {
      "text/html": [
       "<div>\n",
       "<style scoped>\n",
       "    .dataframe tbody tr th:only-of-type {\n",
       "        vertical-align: middle;\n",
       "    }\n",
       "\n",
       "    .dataframe tbody tr th {\n",
       "        vertical-align: top;\n",
       "    }\n",
       "\n",
       "    .dataframe thead tr th {\n",
       "        text-align: left;\n",
       "    }\n",
       "</style>\n",
       "<table border=\"1\" class=\"dataframe\">\n",
       "  <thead>\n",
       "    <tr>\n",
       "      <th>Price</th>\n",
       "      <th>index</th>\n",
       "      <th>Date</th>\n",
       "      <th>Close</th>\n",
       "      <th>High</th>\n",
       "      <th>Low</th>\n",
       "      <th>Open</th>\n",
       "      <th>Volume</th>\n",
       "    </tr>\n",
       "    <tr>\n",
       "      <th>Ticker</th>\n",
       "      <th></th>\n",
       "      <th></th>\n",
       "      <th>GOOG</th>\n",
       "      <th>GOOG</th>\n",
       "      <th>GOOG</th>\n",
       "      <th>GOOG</th>\n",
       "      <th>GOOG</th>\n",
       "    </tr>\n",
       "  </thead>\n",
       "  <tbody>\n",
       "    <tr>\n",
       "      <th>0</th>\n",
       "      <td>0</td>\n",
       "      <td>2012-01-03</td>\n",
       "      <td>16.460485</td>\n",
       "      <td>16.528267</td>\n",
       "      <td>16.137910</td>\n",
       "      <td>16.152011</td>\n",
       "      <td>147611217</td>\n",
       "    </tr>\n",
       "    <tr>\n",
       "      <th>1</th>\n",
       "      <td>1</td>\n",
       "      <td>2012-01-04</td>\n",
       "      <td>16.531483</td>\n",
       "      <td>16.580216</td>\n",
       "      <td>16.341995</td>\n",
       "      <td>16.451087</td>\n",
       "      <td>114989399</td>\n",
       "    </tr>\n",
       "    <tr>\n",
       "      <th>2</th>\n",
       "      <td>2</td>\n",
       "      <td>2012-01-05</td>\n",
       "      <td>16.302168</td>\n",
       "      <td>16.424865</td>\n",
       "      <td>16.233398</td>\n",
       "      <td>16.379349</td>\n",
       "      <td>131808205</td>\n",
       "    </tr>\n",
       "    <tr>\n",
       "      <th>3</th>\n",
       "      <td>3</td>\n",
       "      <td>2012-01-06</td>\n",
       "      <td>16.079779</td>\n",
       "      <td>16.326657</td>\n",
       "      <td>16.074088</td>\n",
       "      <td>16.305629</td>\n",
       "      <td>108119746</td>\n",
       "    </tr>\n",
       "    <tr>\n",
       "      <th>4</th>\n",
       "      <td>4</td>\n",
       "      <td>2012-01-09</td>\n",
       "      <td>15.398017</td>\n",
       "      <td>16.005073</td>\n",
       "      <td>15.367589</td>\n",
       "      <td>15.992702</td>\n",
       "      <td>233776981</td>\n",
       "    </tr>\n",
       "    <tr>\n",
       "      <th>...</th>\n",
       "      <td>...</td>\n",
       "      <td>...</td>\n",
       "      <td>...</td>\n",
       "      <td>...</td>\n",
       "      <td>...</td>\n",
       "      <td>...</td>\n",
       "      <td>...</td>\n",
       "    </tr>\n",
       "    <tr>\n",
       "      <th>3259</th>\n",
       "      <td>3259</td>\n",
       "      <td>2024-12-16</td>\n",
       "      <td>197.520325</td>\n",
       "      <td>199.992315</td>\n",
       "      <td>193.483395</td>\n",
       "      <td>193.737577</td>\n",
       "      <td>32248600</td>\n",
       "    </tr>\n",
       "    <tr>\n",
       "      <th>3260</th>\n",
       "      <td>3260</td>\n",
       "      <td>2024-12-17</td>\n",
       "      <td>196.483673</td>\n",
       "      <td>202.225089</td>\n",
       "      <td>196.055068</td>\n",
       "      <td>197.889125</td>\n",
       "      <td>24129500</td>\n",
       "    </tr>\n",
       "    <tr>\n",
       "      <th>3261</th>\n",
       "      <td>3261</td>\n",
       "      <td>2024-12-18</td>\n",
       "      <td>189.536179</td>\n",
       "      <td>198.048619</td>\n",
       "      <td>188.668992</td>\n",
       "      <td>196.194623</td>\n",
       "      <td>27638400</td>\n",
       "    </tr>\n",
       "    <tr>\n",
       "      <th>3262</th>\n",
       "      <td>3262</td>\n",
       "      <td>2024-12-19</td>\n",
       "      <td>189.087631</td>\n",
       "      <td>193.971823</td>\n",
       "      <td>188.908220</td>\n",
       "      <td>192.656077</td>\n",
       "      <td>26981200</td>\n",
       "    </tr>\n",
       "    <tr>\n",
       "      <th>3263</th>\n",
       "      <td>3263</td>\n",
       "      <td>2024-12-20</td>\n",
       "      <td>192.337112</td>\n",
       "      <td>193.508307</td>\n",
       "      <td>185.768374</td>\n",
       "      <td>186.406307</td>\n",
       "      <td>45319700</td>\n",
       "    </tr>\n",
       "  </tbody>\n",
       "</table>\n",
       "<p>3264 rows × 7 columns</p>\n",
       "</div>"
      ],
      "text/plain": [
       "Price  index       Date       Close        High         Low        Open  \\\n",
       "Ticker                         GOOG        GOOG        GOOG        GOOG   \n",
       "0          0 2012-01-03   16.460485   16.528267   16.137910   16.152011   \n",
       "1          1 2012-01-04   16.531483   16.580216   16.341995   16.451087   \n",
       "2          2 2012-01-05   16.302168   16.424865   16.233398   16.379349   \n",
       "3          3 2012-01-06   16.079779   16.326657   16.074088   16.305629   \n",
       "4          4 2012-01-09   15.398017   16.005073   15.367589   15.992702   \n",
       "...      ...        ...         ...         ...         ...         ...   \n",
       "3259    3259 2024-12-16  197.520325  199.992315  193.483395  193.737577   \n",
       "3260    3260 2024-12-17  196.483673  202.225089  196.055068  197.889125   \n",
       "3261    3261 2024-12-18  189.536179  198.048619  188.668992  196.194623   \n",
       "3262    3262 2024-12-19  189.087631  193.971823  188.908220  192.656077   \n",
       "3263    3263 2024-12-20  192.337112  193.508307  185.768374  186.406307   \n",
       "\n",
       "Price      Volume  \n",
       "Ticker       GOOG  \n",
       "0       147611217  \n",
       "1       114989399  \n",
       "2       131808205  \n",
       "3       108119746  \n",
       "4       233776981  \n",
       "...           ...  \n",
       "3259     32248600  \n",
       "3260     24129500  \n",
       "3261     27638400  \n",
       "3262     26981200  \n",
       "3263     45319700  \n",
       "\n",
       "[3264 rows x 7 columns]"
      ]
     },
     "execution_count": 8,
     "metadata": {},
     "output_type": "execute_result"
    }
   ],
   "source": [
    "data"
   ]
  },
  {
   "cell_type": "code",
   "execution_count": 9,
   "id": "8a478e83-6aee-4809-9405-be6f8b65b16a",
   "metadata": {},
   "outputs": [],
   "source": [
    "# Calculating the 100-Day Moving Average (MA)\n",
    "\n",
    "# The 'rolling(100)' function creates a sliding window of 100 days \n",
    "# on the 'Close' price column.\n",
    "# Then, the '.mean()' function calculates the average stock price \n",
    "# within each 100-day window.\n",
    "\n",
    "# In simple terms:\n",
    "# - For day 100, it will take the average of days 1 to 100.\n",
    "# - For day 101, it will take the average of days 2 to 101.\n",
    "# - And so on...\n",
    "\n",
    "# This moving average smooths out short-term fluctuations in stock prices \n",
    "# and helps us see the long-term trend more clearly.\n",
    "\n",
    "ma_100_days = data.Close.rolling(100).mean()\n"
   ]
  },
  {
   "cell_type": "code",
   "execution_count": 10,
   "id": "fc840124-ef3e-40b0-9e74-aa5a174c4c50",
   "metadata": {},
   "outputs": [
    {
     "data": {
      "image/png": "[encoded data removed]",
      "text/plain": [
       "<Figure size 800x600 with 1 Axes>"
      ]
     },
     "metadata": {},
     "output_type": "display_data"
    }
   ],
   "source": [
    "# Plotting the Stock Closing Price vs. 100-Day Moving Average\n",
    "\n",
    "# Create a new figure for the plot with specific size (8 inches wide, 6 inches tall)\n",
    "plt.figure(figsize=(8,6))\n",
    "\n",
    "# Plot the 100-day moving average in red ('r')\n",
    "# This line will show the smoothed trend of the stock price\n",
    "plt.plot(ma_100_days, 'r', label='100-Day Moving Average')\n",
    "\n",
    "# Plot the actual closing stock prices in green ('g')\n",
    "# This line will show the real daily fluctuations in stock price\n",
    "plt.plot(data.Close, 'g', label='Closing Price')\n",
    "\n",
    "# Adding a legend to differentiate between Closing Price and Moving Average\n",
    "plt.legend()\n",
    "\n",
    "# Display the plot on the screen\n",
    "plt.show()\n"
   ]
  },
  {
   "cell_type": "code",
   "execution_count": 11,
   "id": "1158c05f-1a2c-41f8-8add-85720074cdcd",
   "metadata": {},
   "outputs": [],
   "source": [
    "# Calculating the 200-Day Moving Average (MA)\n",
    "\n",
    "# Similar to the 100-day moving average, but here we use a 200-day window.\n",
    "# This means we take the average of the stock's closing prices over the past 200 days.\n",
    "\n",
    "# Why 200 days?\n",
    "# - It is a widely used \"long-term trend indicator\" in stock market analysis.\n",
    "# - Investors often compare the 50-day, 100-day, and 200-day moving averages \n",
    "#   to judge whether the stock is in a bullish (uptrend) or bearish (downtrend) phase.\n",
    "\n",
    "ma_200_days = data.Close.rolling(200).mean()\n"
   ]
  },
  {
   "cell_type": "code",
   "execution_count": 12,
   "id": "97a1b79b-2302-43d7-883a-a0a255c864bf",
   "metadata": {},
   "outputs": [
    {
     "data": {
      "image/png": "[encoded data removed]",
      "text/plain": [
       "<Figure size 800x600 with 1 Axes>"
      ]
     },
     "metadata": {},
     "output_type": "display_data"
    }
   ],
   "source": [
    "# Plotting Closing Price, 100-Day MA, and 200-Day MA together\n",
    "\n",
    "# Create a new figure with defined size (8 inches wide, 6 inches tall)\n",
    "plt.figure(figsize=(8,6))\n",
    "\n",
    "# Plot the 100-day moving average in red\n",
    "plt.plot(ma_100_days, 'r', label='100-Day MA')\n",
    "\n",
    "# Plot the 200-day moving average in blue\n",
    "plt.plot(ma_200_days, 'b', label='200-Day MA')\n",
    "\n",
    "# Plot the actual closing stock prices in green\n",
    "plt.plot(data.Close, 'g', label='Closing Price')\n",
    "\n",
    "# Add a legend to clearly show which line represents what\n",
    "plt.legend()\n",
    "\n",
    "# Display the final chart\n",
    "plt.show()\n"
   ]
  },
  {
   "cell_type": "code",
   "execution_count": 13,
   "id": "0ac073de-1a30-487c-a1f8-c809cbba06db",
   "metadata": {},
   "outputs": [],
   "source": [
    "# Dropping rows with missing values (NaN) from the dataset\n",
    "\n",
    "# Why do this?\n",
    "# - When we calculate moving averages (100-day, 200-day),\n",
    "#   the first few rows don’t have enough data to compute an average.\n",
    "#   Example: For a 200-day MA, the first 199 rows will be NaN.\n",
    "# - NaN values can create problems in further analysis, training ML models,\n",
    "#   or plotting.\n",
    "\n",
    "# inplace=True means the changes are directly applied to the 'data' DataFrame,\n",
    "# instead of creating a new copy.\n",
    "data.dropna(inplace=True)\n"
   ]
  },
  {
   "cell_type": "code",
   "execution_count": 14,
   "id": "64246466-177b-46f9-b4eb-6ee5005bfd6b",
   "metadata": {},
   "outputs": [],
   "source": [
    "# Splitting the dataset into Training and Testing sets\n",
    "\n",
    "# Training data: First 80% of the stock closing prices\n",
    "# - Used to train the model (learn patterns & trends).\n",
    "# - Example: If total rows = 3000, training = 2400 rows.\n",
    "data_train = pd.DataFrame(data.Close[0: int(len(data) * 0.80)])\n",
    "\n",
    "# Testing data: Remaining 20% of the stock closing prices\n",
    "# - Used to evaluate the model’s performance (unseen data).\n",
    "# - Example: Last 600 rows if total = 3000.\n",
    "data_test = pd.DataFrame(data.Close[int(len(data) * 0.80): len(data)])\n"
   ]
  },
  {
   "cell_type": "code",
   "execution_count": 15,
   "id": "0f4c0b4b-2b5e-4f62-bd84-47a86ed3da3e",
   "metadata": {},
   "outputs": [
    {
     "data": {
      "text/plain": [
       "2611"
      ]
     },
     "execution_count": 15,
     "metadata": {},
     "output_type": "execute_result"
    }
   ],
   "source": [
    "# Checking the number of rows in the training dataset\n",
    "\n",
    "# data_train.shape returns a tuple (rows, columns) for the DataFrame\n",
    "# data_train.shape[0] gives only the number of rows (i.e., number of training samples)\n",
    "\n",
    "# Example:\n",
    "# If total dataset has 3000 rows and we used 80% for training,\n",
    "# this will return 2400, meaning 2400 data points for training\n",
    "data_train.shape[0]\n"
   ]
  },
  {
   "cell_type": "code",
   "execution_count": 16,
   "id": "0a609554-633d-4edf-abc1-21bd874a3cd1",
   "metadata": {},
   "outputs": [
    {
     "data": {
      "text/plain": [
       "653"
      ]
     },
     "execution_count": 16,
     "metadata": {},
     "output_type": "execute_result"
    }
   ],
   "source": [
    "# Checking the number of rows in the testing dataset\n",
    "\n",
    "# data_test.shape returns a tuple (rows, columns) for the DataFrame\n",
    "# data_test.shape[0] gives only the number of rows (i.e., number of testing samples)\n",
    "\n",
    "# Example:\n",
    "# If total dataset has 3000 rows and we used 20% for testing,\n",
    "# this will return 600, meaning 600 data points for testing\n",
    "data_test.shape[0]\n"
   ]
  },
  {
   "cell_type": "code",
   "execution_count": 17,
   "id": "d5144e93-eab7-479f-9fde-9bf8c5786dc6",
   "metadata": {},
   "outputs": [],
   "source": [
    "# Importing MinMaxScaler from scikit-learn\n",
    "\n",
    "# MinMaxScaler is used to scale features (data values) into a specific range.\n",
    "# This is especially important for models like LSTM or Neural Networks\n",
    "# which perform better when inputs are scaled.\n",
    "\n",
    "from sklearn.preprocessing import MinMaxScaler\n",
    "\n",
    "# Creating an instance of MinMaxScaler\n",
    "# feature_range=(0,1) means all values will be scaled to a range between 0 and 1.\n",
    "# Example: If the closing price ranges from 100 to 2000,\n",
    "# after scaling, 100 → 0, 2000 → 1, and other values proportionally in between.\n",
    "\n",
    "scaler = MinMaxScaler(feature_range=(0,1))\n"
   ]
  },
  {
   "cell_type": "code",
   "execution_count": 18,
   "id": "4c2793bd-1def-45f7-8fd2-9115eed1c2c1",
   "metadata": {},
   "outputs": [],
   "source": [
    "# Scaling the training data using MinMaxScaler\n",
    "\n",
    "# The fit_transform() method does two things:\n",
    "# 1. fit() → Calculates the minimum and maximum values from the training data.\n",
    "# 2. transform() → Scales each value to the specified range (0 to 1 in our case).\n",
    "\n",
    "# Why only training data?\n",
    "# - We should always fit the scaler on training data only, \n",
    "#   so the model doesn't get any information from the test set (avoiding data leakage).\n",
    "\n",
    "# The output 'data_train_scale' is a NumPy array where all values are scaled between 0 and 1.\n",
    "data_train_scale = scaler.fit_transform(data_train)\n"
   ]
  },
  {
   "cell_type": "code",
   "execution_count": 19,
   "id": "d55d63c2-132a-40b5-9398-e576ceba14fd",
   "metadata": {},
   "outputs": [],
   "source": [
    "# Preparing training sequences for the model\n",
    "\n",
    "# x → Input sequences (features)  \n",
    "# y → Target values (labels)\n",
    "\n",
    "x = []  # List to store input sequences\n",
    "y = []  # List to store corresponding outputs\n",
    "\n",
    "# Loop through the scaled training data starting from index 100\n",
    "# - We use the previous 100 days to predict the next day's closing price\n",
    "for i in range(100, data_train_scale.shape[0]):\n",
    "    # Take 100 previous days as one input sequence\n",
    "    x.append(data_train_scale[i-100:i])\n",
    "    \n",
    "    # Take the closing price of the current day as the target/output\n",
    "    y.append(data_train_scale[i,0])\n"
   ]
  },
  {
   "cell_type": "code",
   "execution_count": 20,
   "id": "998369e6-f1ad-4cf5-af58-0aa5b7aa315c",
   "metadata": {},
   "outputs": [],
   "source": [
    "# Converting the lists of sequences and targets into NumPy arrays\n",
    "\n",
    "# Why?\n",
    "# - ML libraries like TensorFlow/Keras require inputs to be NumPy arrays\n",
    "#   (or tensors), not Python lists.\n",
    "# - NumPy arrays are more efficient for mathematical operations and model training.\n",
    "\n",
    "x, y = np.array(x), np.array(y)\n",
    "\n",
    "# After this step:\n",
    "# x → NumPy array of shape (number_of_sequences, 100, 1) after reshaping\n",
    "# y → NumPy array of shape (number_of_sequences,)\n"
   ]
  },
  {
   "cell_type": "code",
   "execution_count": 22,
   "id": "3c9c6717-e792-4206-960f-0689203555ca",
   "metadata": {},
   "outputs": [],
   "source": [
    "# Importing necessary modules from Keras for building the LSTM model\n",
    "\n",
    "# Dense → Fully connected layer, used for output or intermediate layers.\n",
    "# Dropout → Regularization technique to prevent overfitting by randomly ignoring some neurons during training.\n",
    "# LSTM → Long Short-Term Memory layer, a type of recurrent neural network (RNN) \n",
    "#        designed to learn from sequential data (time series).\n",
    "from keras.layers import Dense, Dropout, LSTM\n",
    "\n",
    "# Sequential → Keras model type where layers are stacked one after another\n",
    "# Useful for building feed-forward and sequential neural networks\n",
    "from keras.models import Sequential\n"
   ]
  },
  {
   "cell_type": "code",
   "execution_count": 24,
   "id": "14867cd4-c1ed-4cf9-b339-245bfaec0852",
   "metadata": {},
   "outputs": [],
   "source": [
    "# Creating a Sequential model\n",
    "# Sequential means we are stacking layers one after another\n",
    "model = Sequential()\n",
    "\n",
    "# First LSTM layer\n",
    "# - units=50 → Number of LSTM neurons in this layer\n",
    "# - activation='relu' → Using ReLU activation function\n",
    "# - return_sequences=True → We want to pass the full sequence to the next LSTM layer\n",
    "# - input_shape=(x.shape[1],1) → Input shape is (timesteps=100, features=1)\n",
    "model.add(LSTM(units=50, activation='relu', return_sequences=True, input_shape=(x.shape[1],1)))\n",
    "# Dropout layer to prevent overfitting\n",
    "# - Randomly ignores 20% of neurons during training\n",
    "model.add(Dropout(0.2))\n",
    "\n",
    "# Second LSTM layer\n",
    "# - units=60 → More neurons to capture more complex patterns\n",
    "# - return_sequences=True → Pass sequence to next LSTM\n",
    "model.add(LSTM(units=60, activation='relu', return_sequences=True))\n",
    "model.add(Dropout(0.3))  # Dropout 30%\n",
    "\n",
    "# Third LSTM layer\n",
    "# - units=80 → Even more neurons for capturing long-term dependencies\n",
    "model.add(LSTM(units=80, activation='relu', return_sequences=True))\n",
    "model.add(Dropout(0.4))  # Dropout 40%\n",
    "\n",
    "# Fourth LSTM layer (final LSTM)\n",
    "# - units=120 → Large number of neurons to capture complex sequential patterns\n",
    "# - return_sequences=False by default → Output is the last time step, ready for Dense layer\n",
    "model.add(LSTM(units=120, activation='relu'))\n",
    "model.add(Dropout(0.5))  # Dropout 50%, strongest regularization\n",
    "\n",
    "# Output layer\n",
    "# - Dense layer with 1 neuron since we are predicting a single value (next day closing price)\n",
    "model.add(Dense(units=1))\n"
   ]
  },
  {
   "cell_type": "code",
   "execution_count": 25,
   "id": "c69edcc2-b11d-4702-8a6c-f6a6e677e79a",
   "metadata": {},
   "outputs": [],
   "source": [
    "# Compiling the LSTM model\n",
    "\n",
    "# optimizer='adam' → Adam optimizer is widely used in deep learning.\n",
    "# - It adapts the learning rate during training for faster convergence.\n",
    "# - Combines advantages of both AdaGrad and RMSProp optimizers.\n",
    "\n",
    "# loss='mean_squared_error' → Loss function for regression tasks\n",
    "# - Measures the difference between predicted and actual values.\n",
    "# - Squaring the error penalizes larger errors more heavily.\n",
    "# - Commonly used for stock price prediction.\n",
    "\n",
    "model.compile(optimizer='adam', loss='mean_squared_error')\n"
   ]
  },
  {
   "cell_type": "code",
   "execution_count": 26,
   "id": "f36e439a-0106-4108-9630-7cdd7e5428e4",
   "metadata": {},
   "outputs": [
    {
     "name": "stdout",
     "output_type": "stream",
     "text": [
      "Epoch 1/50\n",
      "\u001b[1m79/79\u001b[0m \u001b[32m━━━━━━━━━━━━━━━━━━━━\u001b[0m\u001b[37m\u001b[0m \u001b[1m29s\u001b[0m 233ms/step - loss: 0.0206\n",
      "Epoch 2/50\n",
      "\u001b[1m79/79\u001b[0m \u001b[32m━━━━━━━━━━━━━━━━━━━━\u001b[0m\u001b[37m\u001b[0m \u001b[1m19s\u001b[0m 236ms/step - loss: 0.0056\n",
      "Epoch 3/50\n",
      "\u001b[1m79/79\u001b[0m \u001b[32m━━━━━━━━━━━━━━━━━━━━\u001b[0m\u001b[37m\u001b[0m \u001b[1m19s\u001b[0m 239ms/step - loss: 0.0044\n",
      "Epoch 4/50\n",
      "\u001b[1m79/79\u001b[0m \u001b[32m━━━━━━━━━━━━━━━━━━━━\u001b[0m\u001b[37m\u001b[0m \u001b[1m19s\u001b[0m 238ms/step - loss: 0.0043\n",
      "Epoch 5/50\n",
      "\u001b[1m79/79\u001b[0m \u001b[32m━━━━━━━━━━━━━━━━━━━━\u001b[0m\u001b[37m\u001b[0m \u001b[1m19s\u001b[0m 237ms/step - loss: 0.0041\n",
      "Epoch 6/50\n",
      "\u001b[1m79/79\u001b[0m \u001b[32m━━━━━━━━━━━━━━━━━━━━\u001b[0m\u001b[37m\u001b[0m \u001b[1m18s\u001b[0m 233ms/step - loss: 0.0035\n",
      "Epoch 7/50\n",
      "\u001b[1m79/79\u001b[0m \u001b[32m━━━━━━━━━━━━━━━━━━━━\u001b[0m\u001b[37m\u001b[0m \u001b[1m18s\u001b[0m 229ms/step - loss: 0.0037\n",
      "Epoch 8/50\n",
      "\u001b[1m79/79\u001b[0m \u001b[32m━━━━━━━━━━━━━━━━━━━━\u001b[0m\u001b[37m\u001b[0m \u001b[1m18s\u001b[0m 228ms/step - loss: 0.0027\n",
      "Epoch 9/50\n",
      "\u001b[1m79/79\u001b[0m \u001b[32m━━━━━━━━━━━━━━━━━━━━\u001b[0m\u001b[37m\u001b[0m \u001b[1m19s\u001b[0m 244ms/step - loss: 0.0030\n",
      "Epoch 10/50\n",
      "\u001b[1m79/79\u001b[0m \u001b[32m━━━━━━━━━━━━━━━━━━━━\u001b[0m\u001b[37m\u001b[0m \u001b[1m19s\u001b[0m 234ms/step - loss: 0.0028\n",
      "Epoch 11/50\n",
      "\u001b[1m79/79\u001b[0m \u001b[32m━━━━━━━━━━━━━━━━━━━━\u001b[0m\u001b[37m\u001b[0m \u001b[1m20s\u001b[0m 250ms/step - loss: 0.0027\n",
      "Epoch 12/50\n",
      "\u001b[1m79/79\u001b[0m \u001b[32m━━━━━━━━━━━━━━━━━━━━\u001b[0m\u001b[37m\u001b[0m \u001b[1m18s\u001b[0m 232ms/step - loss: 0.0029\n",
      "Epoch 13/50\n",
      "\u001b[1m79/79\u001b[0m \u001b[32m━━━━━━━━━━━━━━━━━━━━\u001b[0m\u001b[37m\u001b[0m \u001b[1m19s\u001b[0m 236ms/step - loss: 0.0028\n",
      "Epoch 14/50\n",
      "\u001b[1m79/79\u001b[0m \u001b[32m━━━━━━━━━━━━━━━━━━━━\u001b[0m\u001b[37m\u001b[0m \u001b[1m17s\u001b[0m 220ms/step - loss: 0.0033\n",
      "Epoch 15/50\n",
      "\u001b[1m79/79\u001b[0m \u001b[32m━━━━━━━━━━━━━━━━━━━━\u001b[0m\u001b[37m\u001b[0m \u001b[1m18s\u001b[0m 227ms/step - loss: 0.0026\n",
      "Epoch 16/50\n",
      "\u001b[1m79/79\u001b[0m \u001b[32m━━━━━━━━━━━━━━━━━━━━\u001b[0m\u001b[37m\u001b[0m \u001b[1m18s\u001b[0m 230ms/step - loss: 0.0027\n",
      "Epoch 17/50\n",
      "\u001b[1m79/79\u001b[0m \u001b[32m━━━━━━━━━━━━━━━━━━━━\u001b[0m\u001b[37m\u001b[0m \u001b[1m19s\u001b[0m 237ms/step - loss: 0.0024\n",
      "Epoch 18/50\n",
      "\u001b[1m79/79\u001b[0m \u001b[32m━━━━━━━━━━━━━━━━━━━━\u001b[0m\u001b[37m\u001b[0m \u001b[1m19s\u001b[0m 243ms/step - loss: 0.0022\n",
      "Epoch 19/50\n",
      "\u001b[1m79/79\u001b[0m \u001b[32m━━━━━━━━━━━━━━━━━━━━\u001b[0m\u001b[37m\u001b[0m \u001b[1m18s\u001b[0m 230ms/step - loss: 0.0022\n",
      "Epoch 20/50\n",
      "\u001b[1m79/79\u001b[0m \u001b[32m━━━━━━━━━━━━━━━━━━━━\u001b[0m\u001b[37m\u001b[0m \u001b[1m18s\u001b[0m 225ms/step - loss: 0.0027\n",
      "Epoch 21/50\n",
      "\u001b[1m79/79\u001b[0m \u001b[32m━━━━━━━━━━━━━━━━━━━━\u001b[0m\u001b[37m\u001b[0m \u001b[1m18s\u001b[0m 222ms/step - loss: 0.0024\n",
      "Epoch 22/50\n",
      "\u001b[1m79/79\u001b[0m \u001b[32m━━━━━━━━━━━━━━━━━━━━\u001b[0m\u001b[37m\u001b[0m \u001b[1m18s\u001b[0m 225ms/step - loss: 0.0022\n",
      "Epoch 23/50\n",
      "\u001b[1m79/79\u001b[0m \u001b[32m━━━━━━━━━━━━━━━━━━━━\u001b[0m\u001b[37m\u001b[0m \u001b[1m18s\u001b[0m 221ms/step - loss: 0.0022\n",
      "Epoch 24/50\n",
      "\u001b[1m79/79\u001b[0m \u001b[32m━━━━━━━━━━━━━━━━━━━━\u001b[0m\u001b[37m\u001b[0m \u001b[1m18s\u001b[0m 225ms/step - loss: 0.0023\n",
      "Epoch 25/50\n",
      "\u001b[1m79/79\u001b[0m \u001b[32m━━━━━━━━━━━━━━━━━━━━\u001b[0m\u001b[37m\u001b[0m \u001b[1m17s\u001b[0m 219ms/step - loss: 0.0019\n",
      "Epoch 26/50\n",
      "\u001b[1m79/79\u001b[0m \u001b[32m━━━━━━━━━━━━━━━━━━━━\u001b[0m\u001b[37m\u001b[0m \u001b[1m17s\u001b[0m 221ms/step - loss: 0.0021\n",
      "Epoch 27/50\n",
      "\u001b[1m79/79\u001b[0m \u001b[32m━━━━━━━━━━━━━━━━━━━━\u001b[0m\u001b[37m\u001b[0m \u001b[1m17s\u001b[0m 218ms/step - loss: 0.0018\n",
      "Epoch 28/50\n",
      "\u001b[1m79/79\u001b[0m \u001b[32m━━━━━━━━━━━━━━━━━━━━\u001b[0m\u001b[37m\u001b[0m \u001b[1m17s\u001b[0m 218ms/step - loss: 0.0023\n",
      "Epoch 29/50\n",
      "\u001b[1m79/79\u001b[0m \u001b[32m━━━━━━━━━━━━━━━━━━━━\u001b[0m\u001b[37m\u001b[0m \u001b[1m17s\u001b[0m 220ms/step - loss: 0.0022\n",
      "Epoch 30/50\n",
      "\u001b[1m79/79\u001b[0m \u001b[32m━━━━━━━━━━━━━━━━━━━━\u001b[0m\u001b[37m\u001b[0m \u001b[1m18s\u001b[0m 222ms/step - loss: 0.0024\n",
      "Epoch 31/50\n",
      "\u001b[1m79/79\u001b[0m \u001b[32m━━━━━━━━━━━━━━━━━━━━\u001b[0m\u001b[37m\u001b[0m \u001b[1m17s\u001b[0m 220ms/step - loss: 0.0020\n",
      "Epoch 32/50\n",
      "\u001b[1m79/79\u001b[0m \u001b[32m━━━━━━━━━━━━━━━━━━━━\u001b[0m\u001b[37m\u001b[0m \u001b[1m18s\u001b[0m 221ms/step - loss: 0.0017\n",
      "Epoch 33/50\n",
      "\u001b[1m79/79\u001b[0m \u001b[32m━━━━━━━━━━━━━━━━━━━━\u001b[0m\u001b[37m\u001b[0m \u001b[1m18s\u001b[0m 223ms/step - loss: 0.0021\n",
      "Epoch 34/50\n",
      "\u001b[1m79/79\u001b[0m \u001b[32m━━━━━━━━━━━━━━━━━━━━\u001b[0m\u001b[37m\u001b[0m \u001b[1m18s\u001b[0m 223ms/step - loss: 0.0020\n",
      "Epoch 35/50\n",
      "\u001b[1m79/79\u001b[0m \u001b[32m━━━━━━━━━━━━━━━━━━━━\u001b[0m\u001b[37m\u001b[0m \u001b[1m18s\u001b[0m 221ms/step - loss: 0.0018\n",
      "Epoch 36/50\n",
      "\u001b[1m79/79\u001b[0m \u001b[32m━━━━━━━━━━━━━━━━━━━━\u001b[0m\u001b[37m\u001b[0m \u001b[1m17s\u001b[0m 219ms/step - loss: 0.0022\n",
      "Epoch 37/50\n",
      "\u001b[1m79/79\u001b[0m \u001b[32m━━━━━━━━━━━━━━━━━━━━\u001b[0m\u001b[37m\u001b[0m \u001b[1m17s\u001b[0m 219ms/step - loss: 0.0022\n",
      "Epoch 38/50\n",
      "\u001b[1m79/79\u001b[0m \u001b[32m━━━━━━━━━━━━━━━━━━━━\u001b[0m\u001b[37m\u001b[0m \u001b[1m17s\u001b[0m 217ms/step - loss: 0.0021\n",
      "Epoch 39/50\n",
      "\u001b[1m79/79\u001b[0m \u001b[32m━━━━━━━━━━━━━━━━━━━━\u001b[0m\u001b[37m\u001b[0m \u001b[1m17s\u001b[0m 218ms/step - loss: 0.0021\n",
      "Epoch 40/50\n",
      "\u001b[1m79/79\u001b[0m \u001b[32m━━━━━━━━━━━━━━━━━━━━\u001b[0m\u001b[37m\u001b[0m \u001b[1m17s\u001b[0m 219ms/step - loss: 0.0021\n",
      "Epoch 41/50\n",
      "\u001b[1m79/79\u001b[0m \u001b[32m━━━━━━━━━━━━━━━━━━━━\u001b[0m\u001b[37m\u001b[0m \u001b[1m17s\u001b[0m 218ms/step - loss: 0.0019\n",
      "Epoch 42/50\n",
      "\u001b[1m79/79\u001b[0m \u001b[32m━━━━━━━━━━━━━━━━━━━━\u001b[0m\u001b[37m\u001b[0m \u001b[1m17s\u001b[0m 217ms/step - loss: 0.0021\n",
      "Epoch 43/50\n",
      "\u001b[1m79/79\u001b[0m \u001b[32m━━━━━━━━━━━━━━━━━━━━\u001b[0m\u001b[37m\u001b[0m \u001b[1m17s\u001b[0m 216ms/step - loss: 0.0020\n",
      "Epoch 44/50\n",
      "\u001b[1m79/79\u001b[0m \u001b[32m━━━━━━━━━━━━━━━━━━━━\u001b[0m\u001b[37m\u001b[0m \u001b[1m17s\u001b[0m 220ms/step - loss: 0.0019\n",
      "Epoch 45/50\n",
      "\u001b[1m79/79\u001b[0m \u001b[32m━━━━━━━━━━━━━━━━━━━━\u001b[0m\u001b[37m\u001b[0m \u001b[1m17s\u001b[0m 218ms/step - loss: 0.0022\n",
      "Epoch 46/50\n",
      "\u001b[1m79/79\u001b[0m \u001b[32m━━━━━━━━━━━━━━━━━━━━\u001b[0m\u001b[37m\u001b[0m \u001b[1m17s\u001b[0m 217ms/step - loss: 0.0018\n",
      "Epoch 47/50\n",
      "\u001b[1m79/79\u001b[0m \u001b[32m━━━━━━━━━━━━━━━━━━━━\u001b[0m\u001b[37m\u001b[0m \u001b[1m17s\u001b[0m 219ms/step - loss: 0.0019\n",
      "Epoch 48/50\n",
      "\u001b[1m79/79\u001b[0m \u001b[32m━━━━━━━━━━━━━━━━━━━━\u001b[0m\u001b[37m\u001b[0m \u001b[1m18s\u001b[0m 221ms/step - loss: 0.0020\n",
      "Epoch 49/50\n",
      "\u001b[1m79/79\u001b[0m \u001b[32m━━━━━━━━━━━━━━━━━━━━\u001b[0m\u001b[37m\u001b[0m \u001b[1m18s\u001b[0m 221ms/step - loss: 0.0018\n",
      "Epoch 50/50\n",
      "\u001b[1m79/79\u001b[0m \u001b[32m━━━━━━━━━━━━━━━━━━━━\u001b[0m\u001b[37m\u001b[0m \u001b[1m17s\u001b[0m 220ms/step - loss: 0.0018\n"
     ]
    },
    {
     "data": {
      "text/plain": [
       "<keras.src.callbacks.history.History at 0x2c635e55d30>"
      ]
     },
     "execution_count": 26,
     "metadata": {},
     "output_type": "execute_result"
    }
   ],
   "source": [
    "# Training the LSTM model\n",
    "\n",
    "# x → Input sequences (previous 100 days of stock prices)\n",
    "# y → Target values (next day's closing price)\n",
    "\n",
    "# epochs=50 → Number of times the model will go through the entire training dataset\n",
    "# - More epochs allow the model to learn better, but too many may cause overfitting.\n",
    "\n",
    "# batch_size=32 → Number of samples the model processes before updating weights\n",
    "# - Smaller batch size → more frequent updates, potentially better learning\n",
    "# - Larger batch size → faster training, but may miss some details\n",
    "\n",
    "# verbose=1 → Shows progress of training in console\n",
    "# - Includes loss value after each epoch\n",
    "\n",
    "model.fit(x, y, epochs=50, batch_size=32, verbose=1)\n"
   ]
  },
  {
   "cell_type": "code",
   "execution_count": 27,
   "id": "62f9decd-83a6-4c03-8963-dc3298b2a104",
   "metadata": {},
   "outputs": [
    {
     "data": {
      "text/html": [
       "<pre style=\"white-space:pre;overflow-x:auto;line-height:normal;font-family:Menlo,'DejaVu Sans Mono',consolas,'Courier New',monospace\"><span style=\"font-weight: bold\">Model: \"sequential_1\"</span>\n",
       "</pre>\n"
      ],
      "text/plain": [
       "\u001b[1mModel: \"sequential_1\"\u001b[0m\n"
      ]
     },
     "metadata": {},
     "output_type": "display_data"
    },
    {
     "data": {
      "text/html": [
       "<pre style=\"white-space:pre;overflow-x:auto;line-height:normal;font-family:Menlo,'DejaVu Sans Mono',consolas,'Courier New',monospace\">┏━━━━━━━━━━━━━━━━━━━━━━━━━━━━━━━━━━━━━━┳━━━━━━━━━━━━━━━━━━━━━━━━━━━━━┳━━━━━━━━━━━━━━━━━┓\n",
       "┃<span style=\"font-weight: bold\"> Layer (type)                         </span>┃<span style=\"font-weight: bold\"> Output Shape                </span>┃<span style=\"font-weight: bold\">         Param # </span>┃\n",
       "┡━━━━━━━━━━━━━━━━━━━━━━━━━━━━━━━━━━━━━━╇━━━━━━━━━━━━━━━━━━━━━━━━━━━━━╇━━━━━━━━━━━━━━━━━┩\n",
       "│ lstm_4 (<span style=\"color: #0087ff; text-decoration-color: #0087ff\">LSTM</span>)                        │ (<span style=\"color: #00d7ff; text-decoration-color: #00d7ff\">None</span>, <span style=\"color: #00af00; text-decoration-color: #00af00\">100</span>, <span style=\"color: #00af00; text-decoration-color: #00af00\">50</span>)             │          <span style=\"color: #00af00; text-decoration-color: #00af00\">10,400</span> │\n",
       "├──────────────────────────────────────┼─────────────────────────────┼─────────────────┤\n",
       "│ dropout_4 (<span style=\"color: #0087ff; text-decoration-color: #0087ff\">Dropout</span>)                  │ (<span style=\"color: #00d7ff; text-decoration-color: #00d7ff\">None</span>, <span style=\"color: #00af00; text-decoration-color: #00af00\">100</span>, <span style=\"color: #00af00; text-decoration-color: #00af00\">50</span>)             │               <span style=\"color: #00af00; text-decoration-color: #00af00\">0</span> │\n",
       "├──────────────────────────────────────┼─────────────────────────────┼─────────────────┤\n",
       "│ lstm_5 (<span style=\"color: #0087ff; text-decoration-color: #0087ff\">LSTM</span>)                        │ (<span style=\"color: #00d7ff; text-decoration-color: #00d7ff\">None</span>, <span style=\"color: #00af00; text-decoration-color: #00af00\">100</span>, <span style=\"color: #00af00; text-decoration-color: #00af00\">60</span>)             │          <span style=\"color: #00af00; text-decoration-color: #00af00\">26,640</span> │\n",
       "├──────────────────────────────────────┼─────────────────────────────┼─────────────────┤\n",
       "│ dropout_5 (<span style=\"color: #0087ff; text-decoration-color: #0087ff\">Dropout</span>)                  │ (<span style=\"color: #00d7ff; text-decoration-color: #00d7ff\">None</span>, <span style=\"color: #00af00; text-decoration-color: #00af00\">100</span>, <span style=\"color: #00af00; text-decoration-color: #00af00\">60</span>)             │               <span style=\"color: #00af00; text-decoration-color: #00af00\">0</span> │\n",
       "├──────────────────────────────────────┼─────────────────────────────┼─────────────────┤\n",
       "│ lstm_6 (<span style=\"color: #0087ff; text-decoration-color: #0087ff\">LSTM</span>)                        │ (<span style=\"color: #00d7ff; text-decoration-color: #00d7ff\">None</span>, <span style=\"color: #00af00; text-decoration-color: #00af00\">100</span>, <span style=\"color: #00af00; text-decoration-color: #00af00\">80</span>)             │          <span style=\"color: #00af00; text-decoration-color: #00af00\">45,120</span> │\n",
       "├──────────────────────────────────────┼─────────────────────────────┼─────────────────┤\n",
       "│ dropout_6 (<span style=\"color: #0087ff; text-decoration-color: #0087ff\">Dropout</span>)                  │ (<span style=\"color: #00d7ff; text-decoration-color: #00d7ff\">None</span>, <span style=\"color: #00af00; text-decoration-color: #00af00\">100</span>, <span style=\"color: #00af00; text-decoration-color: #00af00\">80</span>)             │               <span style=\"color: #00af00; text-decoration-color: #00af00\">0</span> │\n",
       "├──────────────────────────────────────┼─────────────────────────────┼─────────────────┤\n",
       "│ lstm_7 (<span style=\"color: #0087ff; text-decoration-color: #0087ff\">LSTM</span>)                        │ (<span style=\"color: #00d7ff; text-decoration-color: #00d7ff\">None</span>, <span style=\"color: #00af00; text-decoration-color: #00af00\">120</span>)                 │          <span style=\"color: #00af00; text-decoration-color: #00af00\">96,480</span> │\n",
       "├──────────────────────────────────────┼─────────────────────────────┼─────────────────┤\n",
       "│ dropout_7 (<span style=\"color: #0087ff; text-decoration-color: #0087ff\">Dropout</span>)                  │ (<span style=\"color: #00d7ff; text-decoration-color: #00d7ff\">None</span>, <span style=\"color: #00af00; text-decoration-color: #00af00\">120</span>)                 │               <span style=\"color: #00af00; text-decoration-color: #00af00\">0</span> │\n",
       "├──────────────────────────────────────┼─────────────────────────────┼─────────────────┤\n",
       "│ dense_1 (<span style=\"color: #0087ff; text-decoration-color: #0087ff\">Dense</span>)                      │ (<span style=\"color: #00d7ff; text-decoration-color: #00d7ff\">None</span>, <span style=\"color: #00af00; text-decoration-color: #00af00\">1</span>)                   │             <span style=\"color: #00af00; text-decoration-color: #00af00\">121</span> │\n",
       "└──────────────────────────────────────┴─────────────────────────────┴─────────────────┘\n",
       "</pre>\n"
      ],
      "text/plain": [
       "┏━━━━━━━━━━━━━━━━━━━━━━━━━━━━━━━━━━━━━━┳━━━━━━━━━━━━━━━━━━━━━━━━━━━━━┳━━━━━━━━━━━━━━━━━┓\n",
       "┃\u001b[1m \u001b[0m\u001b[1mLayer (type)                        \u001b[0m\u001b[1m \u001b[0m┃\u001b[1m \u001b[0m\u001b[1mOutput Shape               \u001b[0m\u001b[1m \u001b[0m┃\u001b[1m \u001b[0m\u001b[1m        Param #\u001b[0m\u001b[1m \u001b[0m┃\n",
       "┡━━━━━━━━━━━━━━━━━━━━━━━━━━━━━━━━━━━━━━╇━━━━━━━━━━━━━━━━━━━━━━━━━━━━━╇━━━━━━━━━━━━━━━━━┩\n",
       "│ lstm_4 (\u001b[38;5;33mLSTM\u001b[0m)                        │ (\u001b[38;5;45mNone\u001b[0m, \u001b[38;5;34m100\u001b[0m, \u001b[38;5;34m50\u001b[0m)             │          \u001b[38;5;34m10,400\u001b[0m │\n",
       "├──────────────────────────────────────┼─────────────────────────────┼─────────────────┤\n",
       "│ dropout_4 (\u001b[38;5;33mDropout\u001b[0m)                  │ (\u001b[38;5;45mNone\u001b[0m, \u001b[38;5;34m100\u001b[0m, \u001b[38;5;34m50\u001b[0m)             │               \u001b[38;5;34m0\u001b[0m │\n",
       "├──────────────────────────────────────┼─────────────────────────────┼─────────────────┤\n",
       "│ lstm_5 (\u001b[38;5;33mLSTM\u001b[0m)                        │ (\u001b[38;5;45mNone\u001b[0m, \u001b[38;5;34m100\u001b[0m, \u001b[38;5;34m60\u001b[0m)             │          \u001b[38;5;34m26,640\u001b[0m │\n",
       "├──────────────────────────────────────┼─────────────────────────────┼─────────────────┤\n",
       "│ dropout_5 (\u001b[38;5;33mDropout\u001b[0m)                  │ (\u001b[38;5;45mNone\u001b[0m, \u001b[38;5;34m100\u001b[0m, \u001b[38;5;34m60\u001b[0m)             │               \u001b[38;5;34m0\u001b[0m │\n",
       "├──────────────────────────────────────┼─────────────────────────────┼─────────────────┤\n",
       "│ lstm_6 (\u001b[38;5;33mLSTM\u001b[0m)                        │ (\u001b[38;5;45mNone\u001b[0m, \u001b[38;5;34m100\u001b[0m, \u001b[38;5;34m80\u001b[0m)             │          \u001b[38;5;34m45,120\u001b[0m │\n",
       "├──────────────────────────────────────┼─────────────────────────────┼─────────────────┤\n",
       "│ dropout_6 (\u001b[38;5;33mDropout\u001b[0m)                  │ (\u001b[38;5;45mNone\u001b[0m, \u001b[38;5;34m100\u001b[0m, \u001b[38;5;34m80\u001b[0m)             │               \u001b[38;5;34m0\u001b[0m │\n",
       "├──────────────────────────────────────┼─────────────────────────────┼─────────────────┤\n",
       "│ lstm_7 (\u001b[38;5;33mLSTM\u001b[0m)                        │ (\u001b[38;5;45mNone\u001b[0m, \u001b[38;5;34m120\u001b[0m)                 │          \u001b[38;5;34m96,480\u001b[0m │\n",
       "├──────────────────────────────────────┼─────────────────────────────┼─────────────────┤\n",
       "│ dropout_7 (\u001b[38;5;33mDropout\u001b[0m)                  │ (\u001b[38;5;45mNone\u001b[0m, \u001b[38;5;34m120\u001b[0m)                 │               \u001b[38;5;34m0\u001b[0m │\n",
       "├──────────────────────────────────────┼─────────────────────────────┼─────────────────┤\n",
       "│ dense_1 (\u001b[38;5;33mDense\u001b[0m)                      │ (\u001b[38;5;45mNone\u001b[0m, \u001b[38;5;34m1\u001b[0m)                   │             \u001b[38;5;34m121\u001b[0m │\n",
       "└──────────────────────────────────────┴─────────────────────────────┴─────────────────┘\n"
      ]
     },
     "metadata": {},
     "output_type": "display_data"
    },
    {
     "data": {
      "text/html": [
       "<pre style=\"white-space:pre;overflow-x:auto;line-height:normal;font-family:Menlo,'DejaVu Sans Mono',consolas,'Courier New',monospace\"><span style=\"font-weight: bold\"> Total params: </span><span style=\"color: #00af00; text-decoration-color: #00af00\">536,285</span> (2.05 MB)\n",
       "</pre>\n"
      ],
      "text/plain": [
       "\u001b[1m Total params: \u001b[0m\u001b[38;5;34m536,285\u001b[0m (2.05 MB)\n"
      ]
     },
     "metadata": {},
     "output_type": "display_data"
    },
    {
     "data": {
      "text/html": [
       "<pre style=\"white-space:pre;overflow-x:auto;line-height:normal;font-family:Menlo,'DejaVu Sans Mono',consolas,'Courier New',monospace\"><span style=\"font-weight: bold\"> Trainable params: </span><span style=\"color: #00af00; text-decoration-color: #00af00\">178,761</span> (698.29 KB)\n",
       "</pre>\n"
      ],
      "text/plain": [
       "\u001b[1m Trainable params: \u001b[0m\u001b[38;5;34m178,761\u001b[0m (698.29 KB)\n"
      ]
     },
     "metadata": {},
     "output_type": "display_data"
    },
    {
     "data": {
      "text/html": [
       "<pre style=\"white-space:pre;overflow-x:auto;line-height:normal;font-family:Menlo,'DejaVu Sans Mono',consolas,'Courier New',monospace\"><span style=\"font-weight: bold\"> Non-trainable params: </span><span style=\"color: #00af00; text-decoration-color: #00af00\">0</span> (0.00 B)\n",
       "</pre>\n"
      ],
      "text/plain": [
       "\u001b[1m Non-trainable params: \u001b[0m\u001b[38;5;34m0\u001b[0m (0.00 B)\n"
      ]
     },
     "metadata": {},
     "output_type": "display_data"
    },
    {
     "data": {
      "text/html": [
       "<pre style=\"white-space:pre;overflow-x:auto;line-height:normal;font-family:Menlo,'DejaVu Sans Mono',consolas,'Courier New',monospace\"><span style=\"font-weight: bold\"> Optimizer params: </span><span style=\"color: #00af00; text-decoration-color: #00af00\">357,524</span> (1.36 MB)\n",
       "</pre>\n"
      ],
      "text/plain": [
       "\u001b[1m Optimizer params: \u001b[0m\u001b[38;5;34m357,524\u001b[0m (1.36 MB)\n"
      ]
     },
     "metadata": {},
     "output_type": "display_data"
    }
   ],
   "source": [
    "# Displaying the summary of the LSTM model\n",
    "\n",
    "# model.summary() prints:\n",
    "# - Each layer in the model\n",
    "# - The type of layer (LSTM, Dropout, Dense)\n",
    "# - Output shape of each layer\n",
    "# - Number of trainable parameters (weights and biases) in each layer\n",
    "\n",
    "# This is helpful to:\n",
    "# 1. Understand the structure of the model\n",
    "# 2. Verify the number of neurons, input/output shapes, and parameters\n",
    "# 3. Debug any dimension mismatch before training or prediction\n",
    "model.summary()\n"
   ]
  },
  {
   "cell_type": "code",
   "execution_count": 28,
   "id": "89cf9dc7-4e14-4c80-82bc-d6dcac8c98a2",
   "metadata": {},
   "outputs": [],
   "source": [
    "# Selecting the last 100 days from the training data\n",
    "\n",
    "# Why?\n",
    "# - When predicting the test set, the model needs the previous 100 days of data \n",
    "#   as input for the first prediction.\n",
    "# - 'tail(100)' selects the last 100 rows from the training dataset.\n",
    "\n",
    "pas_100_days = data_train.tail(100)\n",
    "\n",
    "# After this step, 'pas_100_days' contains the final 100 closing prices from training,\n",
    "# which will be combined with test data to create input sequences for prediction.\n"
   ]
  },
  {
   "cell_type": "code",
   "execution_count": 29,
   "id": "67ef7a1e-63cc-4874-9b61-634026572822",
   "metadata": {},
   "outputs": [],
   "source": [
    "# Combining the last 100 days of training data with the test dataset\n",
    "\n",
    "# Why?\n",
    "# - To create input sequences for the LSTM model, we need the previous 100 days for each test sample.\n",
    "# - If we only use the test data, the first 100-day sequence cannot be formed.\n",
    "# - pd.concat() combines two DataFrames vertically (stacked rows).\n",
    "# - ignore_index=True → Re-indexes the combined DataFrame from 0 onwards.\n",
    "\n",
    "data_test = pd.concat([pas_100_days, data_test], ignore_index=True)\n",
    "\n",
    "# After this step:\n",
    "# - The test dataset now includes the 100 previous days from training\n",
    "# - Allows the model to generate sequences for all test points without missing data\n"
   ]
  },
  {
   "cell_type": "code",
   "execution_count": 30,
   "id": "7a0512e4-0eaf-4137-b61d-8bb0e48ca041",
   "metadata": {},
   "outputs": [],
   "source": [
    "# Scaling the combined test dataset using MinMaxScaler\n",
    "# ---------------------------------------------------\n",
    "\n",
    "# The code you wrote:\n",
    "data_test_scale = scaler.fit_transform(data_test)\n",
    "\n",
    "# Explanation:\n",
    "# - fit_transform() calculates min and max values from the data and scales it.\n",
    "# - However, **we should NOT fit the scaler on test data**.\n",
    "#   Why? Because it will \"peek\" into test data and cause data leakage.\n",
    "# - Proper approach:\n",
    "#     - Use the scaler fitted on training data (`scaler` from training)\n",
    "#     - Only apply transform() on test data to scale it within the same range as training\n",
    "\n",
    "# Correct approach:\n",
    "# data_test_scale = scaler.transform(data_test)\n"
   ]
  },
  {
   "cell_type": "code",
   "execution_count": 31,
   "id": "536de9d0-2cc7-41dd-b500-affd3e3fec9d",
   "metadata": {},
   "outputs": [],
   "source": [
    "# Preparing input sequences (x) and targets (y) for the test set\n",
    "\n",
    "x = []  # List to store input sequences\n",
    "y = []  # List to store actual closing prices for comparison\n",
    "\n",
    "# Loop through the scaled test data starting from index 100\n",
    "# - Each input sequence contains the previous 100 days of data\n",
    "# - The target is the closing price on the current day\n",
    "for i in range(100, data_test_scale.shape[0]):\n",
    "    # Append the previous 100 days as input sequence\n",
    "    x.append(data_test_scale[i-100:i])\n",
    "    \n",
    "    # Append the actual closing price for the current day\n",
    "    y.append(data_test_scale[i,0])\n",
    "\n",
    "# Convert lists into NumPy arrays, suitable for model input\n",
    "x, y = np.array(x), np.array(y)\n"
   ]
  },
  {
   "cell_type": "code",
   "execution_count": 32,
   "id": "4602f57f-8832-4bf6-a50e-bb5164ff7872",
   "metadata": {},
   "outputs": [
    {
     "name": "stdout",
     "output_type": "stream",
     "text": [
      "\u001b[1m21/21\u001b[0m \u001b[32m━━━━━━━━━━━━━━━━━━━━\u001b[0m\u001b[37m\u001b[0m \u001b[1m3s\u001b[0m 116ms/step\n"
     ]
    }
   ],
   "source": [
    "# Making predictions on the test dataset using the trained LSTM model\n",
    "\n",
    "# x → Input sequences for test data (previous 100 days for each prediction)\n",
    "# model.predict(x) → Returns predicted values (scaled) for each input sequence\n",
    "\n",
    "y_predict = model.predict(x)\n",
    "\n",
    "# After this step:\n",
    "# - y_predict is a NumPy array containing the predicted closing prices\n",
    "# - These values are still scaled between 0 and 1 (because we used MinMaxScaler)\n",
    "# - To interpret actual stock prices, we need to reverse the scaling using inverse_transform\n"
   ]
  },
  {
   "cell_type": "code",
   "execution_count": 33,
   "id": "ca2d2d64-b69a-4eb3-b4f6-5356bfb5b74a",
   "metadata": {},
   "outputs": [],
   "source": [
    "# Calculating the scale factor for inverse transformation\n",
    "\n",
    "# scaler.scale_ → Contains the scaling factor used by MinMaxScaler for each feature\n",
    "# - For feature_range=(0,1), original formula: scaled_value = (x - min) / (max - min)\n",
    "# - To reverse (get original price), we multiply scaled value by (max - min)\n",
    "\n",
    "# scale = 1 / scaler.scale_ calculates the factor needed to reverse the scaling\n",
    "# - This works because: original_value = scaled_value * (max - min) + min\n",
    "# - scaler.scale_ is basically 1 / (max - min)\n",
    "\n",
    "scale = 1 / scaler.scale_\n",
    "\n",
    "# Note:\n",
    "# - This method assumes MinMaxScaler was already fitted on the training data\n",
    "# - This will allow us to convert predictions back to actual stock prices\n"
   ]
  },
  {
   "cell_type": "code",
   "execution_count": 34,
   "id": "b3e3794a-785d-4ac8-96a3-70fab6259f1c",
   "metadata": {},
   "outputs": [],
   "source": [
    "# Converting scaled predictions back to original stock prices\n",
    "\n",
    "# y_predict → Currently contains values scaled between 0 and 1\n",
    "# scale → Factor calculated to reverse the MinMax scaling (max - min of training data)\n",
    "\n",
    "# Multiply each predicted value by scale to get the actual stock price\n",
    "y_predict = y_predict * scale\n",
    "\n",
    "# After this step:\n",
    "# - y_predict now contains predicted stock prices in the original range\n",
    "# - Ready to compare with actual stock prices for evaluation\n"
   ]
  },
  {
   "cell_type": "code",
   "execution_count": 35,
   "id": "5acb458b-7488-4860-9ccd-8999d67510f7",
   "metadata": {},
   "outputs": [],
   "source": [
    "# Converting the actual test values back to original stock prices\n",
    "\n",
    "# y → Currently contains scaled values of the test set closing prices (0 to 1)\n",
    "# scale → Factor calculated from MinMaxScaler to reverse scaling\n",
    "\n",
    "# Multiply each value in y by scale to get actual closing prices\n",
    "y = y * scale\n",
    "\n",
    "# After this step:\n",
    "# - y now contains the real stock prices in original range\n",
    "# - Can be directly compared with y_predict for evaluation or plotting\n"
   ]
  },
  {
   "cell_type": "code",
   "execution_count": 36,
   "id": "6ab280be-9494-4ea1-baf2-45fc38130366",
   "metadata": {},
   "outputs": [
    {
     "data": {
      "image/png": "[encoded data removed]",
      "text/plain": [
       "<Figure size 1000x800 with 1 Axes>"
      ]
     },
     "metadata": {},
     "output_type": "display_data"
    }
   ],
   "source": [
    "# Plotting Predicted vs Actual Stock Prices\n",
    "\n",
    "# Create a figure with size 10x8 inches\n",
    "plt.figure(figsize=(10,8))\n",
    "\n",
    "# Plot the predicted stock prices in red\n",
    "plt.plot(y_predict, 'r', label='Predicted Price')\n",
    "\n",
    "# Plot the actual stock prices in green\n",
    "plt.plot(y, 'g', label='Original Price')\n",
    "\n",
    "# Label x-axis as 'Time' (represents sequential days in test set)\n",
    "plt.xlabel('Time')\n",
    "\n",
    "# Label y-axis as 'Price' (stock price in original range)\n",
    "plt.ylabel('Price')\n",
    "\n",
    "# Add a legend to differentiate between predicted and actual prices\n",
    "plt.legend()\n",
    "\n",
    "# Display the final chart\n",
    "plt.show()\n"
   ]
  },
  {
   "cell_type": "code",
   "execution_count": 37,
   "id": "22143940-722e-4c05-8b46-d2f7d9abb882",
   "metadata": {},
   "outputs": [],
   "source": [
    "# Saving the trained LSTM model to a file\n",
    "\n",
    "# model.save('Stock Predictions Model.keras') saves the entire model:\n",
    "# - Architecture (layers, activation functions)\n",
    "# - Weights (learned parameters during training)\n",
    "# - Optimizer state (for continuing training if needed)\n",
    "\n",
    "# File format: '.keras' (Keras native format)\n",
    "# - You can later load this model using keras.models.load_model('Stock Predictions Model.keras')\n",
    "\n",
    "model.save('Stock Predictions Model.keras')\n"
   ]
  },
  {
   "cell_type": "code",
   "execution_count": null,
   "id": "bd3bc001-da88-44ba-85d1-9b72ebfde3a6",
   "metadata": {},
   "outputs": [],
   "source": []
  }
 ],
 "metadata": {
  "kernelspec": {
   "display_name": "Python 3 (ipykernel)",
   "language": "python",
   "name": "python3"
  },
  "language_info": {
   "codemirror_mode": {
    "name": "ipython",
    "version": 3
   },
   "file_extension": ".py",
   "mimetype": "text/x-python",
   "name": "python",
   "nbconvert_exporter": "python",
   "pygments_lexer": "ipython3",
   "version": "3.13.2"
  }
 },
 "nbformat": 4,
 "nbformat_minor": 5
}
